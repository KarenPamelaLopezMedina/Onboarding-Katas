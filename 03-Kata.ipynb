{
 "cells": [
  {
   "cell_type": "markdown",
   "metadata": {},
   "source": [
    "# Ejercicio - Escribir declaraciones `if`, `else`, y `elif`"
   ]
  },
  {
   "cell_type": "code",
   "execution_count": 1,
   "metadata": {},
   "outputs": [
    {
     "name": "stdout",
     "output_type": "stream",
     "text": [
      "Asteroide lejos de la Tierra\n"
     ]
    }
   ],
   "source": [
    "# Añadir el código necesario para crear una variable que guarde la velocidad del asteroide.\n",
    "v_asteroide = 49 #km/s\n",
    "# Escribe una expresión de prueba para calcular si necesita una advertencia.\n",
    "if v_asteroide <= 25:\n",
    "    print('ADVERTENCIA, Asteroide acercándose a la Tierra')\n",
    "else:\n",
    "    print(\"Asteroide lejos de la Tierra\")\n",
    "# Agregue las instrucciones que se ejecutarán si la expresión de prueba es true o false."
   ]
  },
  {
   "cell_type": "code",
   "execution_count": 3,
   "metadata": {},
   "outputs": [
    {
     "name": "stdout",
     "output_type": "stream",
     "text": [
      "19km/s Velocidad del asteroide está en el límite.\n"
     ]
    }
   ],
   "source": [
    "# Agrega el código para crear una variable para un asteroide que viaja a 19 km/s\n",
    "vel_asteroide = 19\n",
    "# Escribe varias expresiones de prueba para determinar si puedes ver el rayo de luz desde la tierra\n",
    "if vel_asteroide >= 20:\n",
    "    print(\"CUIDADO, Se puede ver el rayo de luz\")\n",
    "elif vel_asteroide == 19:\n",
    "    print(\"19km/s Velocidad del asteroide está en el límite.\")\n",
    "else:\n",
    "    print(\"No hay peligro\")\n",
    "# Agrega las instrucciones que se ejecutarán si las expresiones de prueba son True o False"
   ]
  },
  {
   "cell_type": "markdown",
   "metadata": {},
   "source": [
    "# Ejercicio: Uso de operadores `and` y `or` "
   ]
  },
  {
   "cell_type": "markdown",
   "metadata": {},
   "source": [
    "*Los asteroides de menos de 25 metros en su dimensión más grande probablemente se quemarán a medida que entren en la atmósfera de la Tierra.\n",
    "* Si una pieza de un asteroide que es más grande que 25 metros pero más pequeña que 1000 metros golpeara la Tierra, causaría mucho daño.\n",
    "\n",
    "También discutimos en el ejercicio anterior que:\n",
    "\n",
    "* La velocidad del asteroide varía en función de lo cerca que esté del sol, y cualquier velocidad superior a 25 kilómetros por segundo (km/s) merece una advertencia.\n",
    "* Si un asteroide entra en la atmósfera de la Tierra a una velocidad mayor o igual a 20 km/s, a veces produce un rayo de luz que se puede ver desde la Tierra.\n"
   ]
  },
  {
   "cell_type": "code",
   "execution_count": 4,
   "metadata": {},
   "outputs": [
    {
     "name": "stdout",
     "output_type": "stream",
     "text": [
      "El Asteroide puede producit luz en el cielo y no se destruirá al entrar a la Tierra.\n"
     ]
    }
   ],
   "source": [
    "\n",
    "# Agrega el código para crear nuevas variables para la velocidad y el tamaño del asteroide\n",
    "V_asteroide = 21\n",
    "dim_asteroide = 30\n",
    "# Para probar el código, prueba con varias velocidades y tamaños\n",
    "\n",
    "# Escribe varias expresiones de prueba o combinaciones de expresiones de prueba para determinar qué mensaje se debe enviar a Tierra.\n",
    "if V_asteroide >= 25 and dim_asteroide >= 25:\n",
    "    print(\"ADVERTENCIA, Asteroide cerca, NO se destruirá\")\n",
    "elif V_asteroide >= 20 and dim_asteroide >=25:\n",
    "    print(\"El Asteroide puede producit luz en el cielo y no se destruirá al entrar a la Tierra.\")\n",
    "elif V_asteroide >= 20 and dim_asteroide <=25:\n",
    "    print(\"El Asteroide puede producit luz en el cielo pero se destruirá al entrar a la Tierra.\")\n",
    "elif V_asteroide < 20 and dim_asteroide <=25:\n",
    "    print(\"Es posible ver luz en el cielo debido al asteroide pero se destruirá al entrar a la Tierra.\")\n",
    "else:\n",
    "    print(\"No hay señales de importancia\")"
   ]
  },
  {
   "cell_type": "code",
   "execution_count": null,
   "metadata": {},
   "outputs": [],
   "source": []
  }
 ],
 "metadata": {
  "interpreter": {
   "hash": "bdd6452835a1642e2d58e70cd39963fdd7c788606328ae08c41b50372f3c6a18"
  },
  "kernelspec": {
   "display_name": "Python 3.10.2 64-bit",
   "language": "python",
   "name": "python3"
  },
  "language_info": {
   "codemirror_mode": {
    "name": "ipython",
    "version": 3
   },
   "file_extension": ".py",
   "mimetype": "text/x-python",
   "name": "python",
   "nbconvert_exporter": "python",
   "pygments_lexer": "ipython3",
   "version": "3.10.2"
  },
  "orig_nbformat": 4
 },
 "nbformat": 4,
 "nbformat_minor": 2
}
